{
 "cells": [
  {
   "cell_type": "code",
   "execution_count": 1,
   "id": "cd0693622cc9a693",
   "metadata": {
    "ExecuteTime": {
     "end_time": "2025-09-04T19:53:02.345153400Z",
     "start_time": "2025-09-04T19:53:01.755322800Z"
    },
    "collapsed": false,
    "jupyter": {
     "outputs_hidden": false
    }
   },
   "outputs": [],
   "source": [
    "import os\n",
    "import dotenv\n",
    "import json\n",
    "from openai import OpenAI"
   ]
  },
  {
   "cell_type": "markdown",
   "id": "d77ad28cc534337c",
   "metadata": {
    "collapsed": false,
    "jupyter": {
     "outputs_hidden": false
    }
   },
   "source": [
    "# Set-up the client\n",
    "put you're API key in a .env file with the format:\n",
    "\n",
    "API_KEY = *****\n"
   ]
  },
  {
   "cell_type": "code",
   "execution_count": 5,
   "id": "60abafd12f6ce146",
   "metadata": {
    "ExecuteTime": {
     "end_time": "2025-09-04T19:52:21.081905100Z",
     "start_time": "2025-09-04T19:52:21.008676800Z"
    },
    "collapsed": false,
    "jupyter": {
     "outputs_hidden": false
    }
   },
   "outputs": [],
   "source": [
    "# Load environment variables from .env file\n",
    "dotenv.load_dotenv()\n",
    "\n",
    "# Get the API key and set up the client to connect to Metis AI\n",
    "metis_api_key = os.getenv(\"API_KEY\")\n",
    "client = OpenAI(\n",
    "    api_key=metis_api_key,\n",
    "    base_url=\"https://api.metisai.ir/openai/v1\"\n",
    ")"
   ]
  },
  {
   "cell_type": "markdown",
   "id": "f164831209595822",
   "metadata": {
    "collapsed": false,
    "jupyter": {
     "outputs_hidden": false
    }
   },
   "source": [
    "# Step 1: Create a Custom Tool (Python Function)\n",
    "Here, we define a standard Python function. This function is our \"tool\" that the AI will learn to use. It takes a number (amount), multiplies it by a fixed exchange rate, and returns the result in a JSON format."
   ]
  },
  {
   "cell_type": "code",
   "execution_count": 6,
   "id": "1cd5fdde2b8b723d",
   "metadata": {
    "ExecuteTime": {
     "end_time": "2025-09-04T19:52:21.133430800Z",
     "start_time": "2025-09-04T19:52:21.074888300Z"
    },
    "collapsed": false,
    "jupyter": {
     "outputs_hidden": false
    }
   },
   "outputs": [],
   "source": [
    "# --- Step 1: Define your custom Python function with a parameter ---\n",
    "def convert_usd_to_irr(amount: int):\n",
    "    \"\"\"\n",
    "    Converts a given USD amount to IRR by multiplying it by a fixed rate.\n",
    "    \"\"\"\n",
    "    # In a real application, this rate could be fetched from a live API\n",
    "    fixed_rate = 970000\n",
    "    total_irr = amount * fixed_rate\n",
    "\n",
    "    # Return the final calculated amount as a JSON object\n",
    "    return json.dumps({\"total_in_irr\": total_irr})"
   ]
  },
  {
   "cell_type": "markdown",
   "id": "f853987e53aebe84",
   "metadata": {
    "collapsed": false,
    "jupyter": {
     "outputs_hidden": false
    }
   },
   "source": [
    "# Step 2: Describe the Tool for the AI Model\n",
    "The AI model cannot read our Python code directly. We must describe the function to it in a specific format called a schema. This schema tells the model:\n",
    "\n",
    "- name: The function's name.\n",
    "- description: What the function does, in natural language.\n",
    "- parameters: The arguments the function needs, their types (number, string, etc.), and which ones are required."
   ]
  },
  {
   "cell_type": "code",
   "execution_count": 7,
   "id": "3780af608e668310",
   "metadata": {
    "ExecuteTime": {
     "end_time": "2025-09-04T19:52:21.185659Z",
     "start_time": "2025-09-04T19:52:21.138736500Z"
    },
    "collapsed": false,
    "jupyter": {
     "outputs_hidden": false
    }
   },
   "outputs": [],
   "source": [
    "# --- Step 2: Describe the new function and its required parameters to the model ---\n",
    "functions = [\n",
    "    {\n",
    "        \"name\": \"convert_usd_to_irr\",\n",
    "        \"description\": \"یک مبلغ مشخص از دلار آمریکا را به ریال ایران تبدیل می‌کند\",\n",
    "        \"parameters\": {\n",
    "            \"type\": \"object\",\n",
    "            \"properties\": {\n",
    "                \"amount\": {\n",
    "                    \"type\": \"number\",\n",
    "                    \"description\": \"مبلغ به دلار برای تبدیل شدن\",\n",
    "                }\n",
    "            },\n",
    "            \"required\": [\"amount\"],  # The 'amount' parameter is mandatory / پارامتر 'amount' اجباری است\n",
    "        },\n",
    "    }\n",
    "]"
   ]
  },
  {
   "cell_type": "markdown",
   "id": "790b9f5bc70d2d4c",
   "metadata": {
    "collapsed": false,
    "jupyter": {
     "outputs_hidden": false
    }
   },
   "source": [
    "# Step 3: Define the User's Prompt\n",
    "Now, we create the user's question. The model will analyze this text to determine if it needs to use one of the tools we provided in the functions list. Notice how the prompt \"۲۰۰ دلار\" contains the amount that our function needs."
   ]
  },
  {
   "cell_type": "code",
   "execution_count": 8,
   "id": "94d676449eb74f83",
   "metadata": {
    "ExecuteTime": {
     "end_time": "2025-09-04T19:52:21.211667200Z",
     "start_time": "2025-09-04T19:52:21.157953600Z"
    },
    "collapsed": false,
    "jupyter": {
     "outputs_hidden": false
    }
   },
   "outputs": [
    {
     "name": "stdout",
     "output_type": "stream",
     "text": [
      ">>> Calling the model...\n"
     ]
    }
   ],
   "source": [
    "# --- Step 3: Start the conversation with the user's prompt ---\n",
    "messages = [\n",
    "    {\"role\": \"user\", \"content\": \"سلام، لطفا ۲۰۰ دلار رو به ریال تبدیل کن\"}\n",
    "]\n",
    "\n",
    "# --- Step 4: First API call to see if the model wants to use the function ---\n",
    "print(\">>> Calling the model...\")\n",
    "response = client.chat.completions.create(\n",
    "    model=\"gpt-4o\",  # You can change this to your desired model\n",
    "    messages=messages,\n",
    "    functions=functions,\n",
    "    function_call='auto'\n",
    ")\n",
    "\n",
    "response_message = response.choices[0].message"
   ]
  },
  {
   "cell_type": "markdown",
   "id": "d71950cec118df35",
   "metadata": {
    "collapsed": false,
    "jupyter": {
     "outputs_hidden": false
    }
   },
   "source": [
    "# Step 4: Execute the Full Function Calling Flow\n",
    "This is the main logic. It's a two-step API interaction:\n",
    "\n",
    "First Call: We send the user's message and the function description to the model. The model doesn't answer the user directly. Instead, it responds with a request to call a specific function (convert_usd_to_irr) and the arguments it extracted from the prompt (amount: 200).\n",
    "\n",
    "Run the Function: Our Python code receives this request, runs our local convert_usd_to_irr function with the provided arguments, and captures the output.\n",
    "\n",
    "Second Call: We call the API again. This time, we include the original prompt, the model's first response, and the result from our Python function. With all this context, the model generates a final, human-friendly answer."
   ]
  },
  {
   "cell_type": "code",
   "execution_count": 9,
   "id": "16019275a1e36008",
   "metadata": {
    "ExecuteTime": {
     "end_time": "2025-09-04T19:52:21.287034Z",
     "start_time": "2025-09-04T19:52:21.223822900Z"
    },
    "collapsed": false,
    "jupyter": {
     "outputs_hidden": false
    }
   },
   "outputs": [
    {
     "name": "stdout",
     "output_type": "stream",
     "text": [
      ">>> Model decided to call the function 'convert_usd_to_irr'.\n",
      ">>> With arguments: {'amount': 200}\n",
      ">>> Function output: {\"total_in_irr\": 194000000}\n",
      ">>> Calling the model again with function result...\n",
      "\n",
      "--- Final Answer ---\n",
      "۲۰۰ دلار برابر است با ۱۹۴،۰۰۰،۰۰۰ ریال.\n"
     ]
    }
   ],
   "source": [
    "# --- Step 5: Check if the model decided to call our function ---\n",
    "if response_message.function_call:\n",
    "    function_name = response_message.function_call.name\n",
    "    print(f\">>> Model decided to call the function '{function_name}'.\")\n",
    "\n",
    "    # --- Step 6: Extract arguments and execute the function ---\n",
    "\n",
    "    # Parse the JSON string of arguments the model provides\n",
    "    arguments = json.loads(response_message.function_call.arguments)\n",
    "    print(f\">>> With arguments: {arguments}\")\n",
    "\n",
    "    # Call the function with the extracted arguments\n",
    "    function_output = convert_usd_to_irr(amount=arguments.get(\"amount\"))\n",
    "    print(f\">>> Function output: {function_output}\")\n",
    "\n",
    "    # Add the assistant's response (the function call) to the message history\n",
    "    messages.append(response_message)\n",
    "\n",
    "    # --- Step 7: Send the function's result back to the model ---\n",
    "    messages.append({\n",
    "        \"role\": \"function\",\n",
    "        \"name\": function_name,\n",
    "        \"content\": function_output\n",
    "    })\n",
    "\n",
    "    print(\">>> Calling the model again with function result...\")\n",
    "    final_response = client.chat.completions.create(\n",
    "        model=\"gpt-4o\",\n",
    "        messages=messages\n",
    "    )\n",
    "\n",
    "    print(\"\\n--- Final Answer ---\")\n",
    "    print(final_response.choices[0].message.content)\n",
    "\n",
    "else:\n",
    "    print(\"\\n--- Final Answer ---\")\n",
    "    print(response_message.content)"
   ]
  },
  {
   "cell_type": "code",
   "execution_count": null,
   "id": "1836235b-3324-41ec-9fc7-ad29c8c6d110",
   "metadata": {},
   "outputs": [],
   "source": []
  }
 ],
 "metadata": {
  "kernelspec": {
   "display_name": "Python 3 (ipykernel)",
   "language": "python",
   "name": "python3"
  },
  "language_info": {
   "codemirror_mode": {
    "name": "ipython",
    "version": 3
   },
   "file_extension": ".py",
   "mimetype": "text/x-python",
   "name": "python",
   "nbconvert_exporter": "python",
   "pygments_lexer": "ipython3",
   "version": "3.10.15"
  }
 },
 "nbformat": 4,
 "nbformat_minor": 5
}
